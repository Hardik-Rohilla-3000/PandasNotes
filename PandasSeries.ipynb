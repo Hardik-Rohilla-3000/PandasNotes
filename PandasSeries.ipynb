{
 "cells": [
  {
   "cell_type": "code",
   "execution_count": 1,
   "id": "9c8fd75f",
   "metadata": {},
   "outputs": [],
   "source": [
    "import numpy as np\n",
    "import pandas as pd"
   ]
  },
  {
   "cell_type": "code",
   "execution_count": null,
   "id": "fbfbf8d0",
   "metadata": {},
   "outputs": [
    {
     "data": {
      "text/plain": [
       "USA       1776\n",
       "Canada    1867\n",
       "Mexico    1821\n",
       "dtype: int64"
      ]
     },
     "execution_count": 2,
     "metadata": {},
     "output_type": "execute_result"
    }
   ],
   "source": [
    "#arrays to series\n",
    "myIndex = [\"USA\",\"Canada\",\"Mexico\"]\n",
    "myData = [1776,1867,1821]\n",
    "mySeries = pd.Series(data=myData,index=myIndex) #Syntax :- pd.Series(data,index) (not necessary to pass explicitly untill passed in correct order)\n",
    "mySeries   #Now we can access our data with both numeric index and labeled index with the help of pandas series"
   ]
  },
  {
   "cell_type": "code",
   "execution_count": 3,
   "id": "5fca0ba3",
   "metadata": {},
   "outputs": [
    {
     "data": {
      "text/plain": [
       "Sam       5\n",
       "Frank    10\n",
       "Spike     7\n",
       "dtype: int64"
      ]
     },
     "execution_count": 3,
     "metadata": {},
     "output_type": "execute_result"
    }
   ],
   "source": [
    "#dictionary to series\n",
    "age = {\"Sam\":5,\"Frank\":10,\"Spike\":7}\n",
    "pd.Series(age)  #Keys will be converted to index and values will be converted to data"
   ]
  },
  {
   "cell_type": "code",
   "execution_count": 4,
   "id": "f49ee1ae",
   "metadata": {},
   "outputs": [],
   "source": [
    "#Operations in Series"
   ]
  },
  {
   "cell_type": "code",
   "execution_count": null,
   "id": "cc2f9c94",
   "metadata": {},
   "outputs": [],
   "source": [
    "#Imaginary sales data for 1st and 2nd quarter for global company\n",
    "q1 = {\"Japan\":80,\"China\":450,\"India\":200,\"USA\":250}\n",
    "q2 = {\"Brazil\":100,\"China\":500,\"India\":210,\"USA\":260}\n",
    "sales_q1 = pd.Series(q1)\n",
    "sales_q2 = pd.Series(q2)\n",
    "sales_q1.keys() #this functions gives the list of available keys\n",
    "sales_q1 * 2 #This will multiply all the values by 2 as pandas series are built of numpy arrays"
   ]
  },
  {
   "cell_type": "code",
   "execution_count": 6,
   "id": "a2fff7b5",
   "metadata": {},
   "outputs": [
    {
     "data": {
      "text/plain": [
       "Japan     80\n",
       "China    450\n",
       "India    200\n",
       "USA      250\n",
       "dtype: int64"
      ]
     },
     "execution_count": 6,
     "metadata": {},
     "output_type": "execute_result"
    }
   ],
   "source": [
    "sales_q1"
   ]
  },
  {
   "cell_type": "code",
   "execution_count": 7,
   "id": "878a7d04",
   "metadata": {},
   "outputs": [
    {
     "data": {
      "text/plain": [
       "Brazil    100\n",
       "China     500\n",
       "India     210\n",
       "USA       260\n",
       "dtype: int64"
      ]
     },
     "execution_count": 7,
     "metadata": {},
     "output_type": "execute_result"
    }
   ],
   "source": [
    "sales_q2"
   ]
  },
  {
   "cell_type": "code",
   "execution_count": null,
   "id": "3743ce77",
   "metadata": {},
   "outputs": [
    {
     "data": {
      "text/plain": [
       "Brazil      NaN\n",
       "China     950.0\n",
       "India     410.0\n",
       "Japan       NaN\n",
       "USA       510.0\n",
       "dtype: float64"
      ]
     },
     "execution_count": 8,
     "metadata": {},
     "output_type": "execute_result"
    }
   ],
   "source": [
    "sales_q1 + sales_q2  #we got this output because we don't have brazil and japan in both the series"
   ]
  },
  {
   "cell_type": "code",
   "execution_count": 9,
   "id": "a756223f",
   "metadata": {},
   "outputs": [
    {
     "data": {
      "text/plain": [
       "Brazil    100.0\n",
       "China     950.0\n",
       "India     410.0\n",
       "Japan      80.0\n",
       "USA       510.0\n",
       "dtype: float64"
      ]
     },
     "execution_count": 9,
     "metadata": {},
     "output_type": "execute_result"
    }
   ],
   "source": [
    "sales_q1.add(sales_q2,fill_value=0)  #fill value means what value we want to add in the place of missing data in this case brazil and japan so that in q1 series brazil value will be 0 and in q2 series japan value will be 0 and in this way we will get the correct output"
   ]
  }
 ],
 "metadata": {
  "kernelspec": {
   "display_name": "env",
   "language": "python",
   "name": "python3"
  },
  "language_info": {
   "codemirror_mode": {
    "name": "ipython",
    "version": 3
   },
   "file_extension": ".py",
   "mimetype": "text/x-python",
   "name": "python",
   "nbconvert_exporter": "python",
   "pygments_lexer": "ipython3",
   "version": "3.13.4"
  }
 },
 "nbformat": 4,
 "nbformat_minor": 5
}
